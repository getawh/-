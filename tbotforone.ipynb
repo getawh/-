{
 "cells": [
  {
   "cell_type": "code",
   "execution_count": 1,
   "metadata": {},
   "outputs": [],
   "source": [
    "from selenium import webdriver as wd\n",
    "import chromedriver_py\n",
    "from bs4 import BeautifulSoup\n",
    "import time\n",
    "import pandas as pd\n",
    "import requests"
   ]
  },
  {
   "cell_type": "code",
   "execution_count": 2,
   "metadata": {},
   "outputs": [],
   "source": [
    "wd= wd.Chrome()"
   ]
  },
  {
   "cell_type": "code",
   "execution_count": 3,
   "metadata": {},
   "outputs": [],
   "source": [
    "def getPandaDfForSearchResults(searchResultsPage):\n",
    "    rows=[]\n",
    "    for result in searchResultsPage:\n",
    "        title = result.find(\"span\", {\"class\": \"a-text-normal\"})\n",
    "        # sponsored = result.find(\"span\", {\"class\": \"a-color-base\"}, text=\"Sponsored\")\n",
    "        price = result.find(\"span\", {\"class\": \"a-price-whole\"})\n",
    "        url = result.find(\"a\", {\"class\": \"a-link-normal\"})\n",
    "        if price:\n",
    "            row= [title.text, price.text, \"https://amazon.com/\" + url['href']]\n",
    "            rows.append(row)\n",
    "    \n",
    "    df=pd.DataFrame.from_records(rows, columns=[\"Title\", \"Price\", \"URL\"])\n",
    "    return df"
   ]
  },
  {
   "cell_type": "code",
   "execution_count": 4,
   "metadata": {},
   "outputs": [],
   "source": [
    "def getSearchResultsForPage(url):\n",
    "    wd.get(url)\n",
    "    time.sleep(5)\n",
    "    soup = BeautifulSoup(wd.page_source)\n",
    "    searchResultsPage = soup.findAll(\"div\", {\"data-component-type\": \"s-search-result\"})\n",
    "    df = getPandaDfForSearchResults(searchResultsPage)\n",
    "    if list(df['Title']):\n",
    "        final_list = [list(df['Title'])[0],list(df['Price'])[0],list(df['URL'])[0]]\n",
    "    else:\n",
    "        return []\n",
    "    return final_list"
   ]
  },
  {
   "cell_type": "code",
   "execution_count": 5,
   "metadata": {},
   "outputs": [
    {
     "name": "stderr",
     "output_type": "stream",
     "text": [
      "2022-02-06 06:16:54,726 - apscheduler.scheduler - INFO - Scheduler started\n"
     ]
    }
   ],
   "source": [
    "import logging\n",
    "\n",
    "from telegram import Update, ForceReply\n",
    "from telegram.ext import Updater, CommandHandler, MessageHandler, Filters, CallbackContext\n",
    "\n",
    "logging.basicConfig(\n",
    "    format='%(asctime)s - %(name)s - %(levelname)s - %(message)s', level=logging.INFO\n",
    ")\n",
    "\n",
    "\n",
    "\n",
    "def start(update: Update, context: CallbackContext):\n",
    "    user = update.effective_user\n",
    "    update.message.reply_markdown_v2(\n",
    "        fr'ሰላም {user.mention_markdown_v2()}\\! , መግዛት የምትፈልጉትን ዕቃ ያስገቡ።',\n",
    "        reply_markup=ForceReply(selective=True),\n",
    "    )\n",
    "\n",
    "API_KEY = 'eccbe927996c560fb653946e'\n",
    "data = requests.get('https://v6.exchangerate-api.com/v6/'+API_KEY+'/latest/USD').json()\n",
    "value= data['conversion_rates']['ETB']\n",
    "hi_message = ['hi','Hi','hey','Hey','selam','Selam']\n",
    "def echo(update: Update, context: CallbackContext):\n",
    "    if update.message.text in hi_message :\n",
    "        update.message.reply_text('Hi')\n",
    "    elif update.message.text == 'ሰላም':\n",
    "        update.message.reply_text('ሰላም')\n",
    "    elif update.message.text:\n",
    "        all_text = getSearchResultsForPage(\"https://www.amazon.com/s?k=\"+update.message.text)\n",
    "        if not all_text:\n",
    "            update.message.reply_text('በዚህ ስም ዋጋዉ የተለጠፈበት እቃ የለም።  እባክዎ በሌላ ስም ይሞክሩ።')\n",
    "        else:\n",
    "            update.message.reply_text(all_text[0]+'\\n\\n'+'ዋጋ = $'+all_text[1][:-1]+' ወይም '+str(int(all_text[1][:-1])*value)+' ብር\\n\\n'+all_text[2])\n",
    "def main():\n",
    "    updater = Updater(\"5047156256:AAFQUHnCMhsEG5y2LH5svRkmpJQezBnKUzY\")\n",
    "    dispatcher = updater.dispatcher\n",
    "    dispatcher.add_handler(CommandHandler(\"start\", start))\n",
    "    dispatcher.add_handler(MessageHandler(Filters.text & ~Filters.command, echo))\n",
    "    updater.start_polling()\n",
    "    updater.idle()\n",
    "\n",
    "\n",
    "if __name__ == '__main__':\n",
    "    main()"
   ]
  }
 ],
 "metadata": {
  "interpreter": {
   "hash": "b6a225e7eec3ca45dbbb0bd57801c94eb9675f46eb8c7f7ef3e72fdb81113a39"
  },
  "kernelspec": {
   "display_name": "Python 3.9.7 ('base')",
   "language": "python",
   "name": "python3"
  },
  "language_info": {
   "codemirror_mode": {
    "name": "ipython",
    "version": 3
   },
   "file_extension": ".py",
   "mimetype": "text/x-python",
   "name": "python",
   "nbconvert_exporter": "python",
   "pygments_lexer": "ipython3",
   "version": "3.9.7"
  },
  "orig_nbformat": 4
 },
 "nbformat": 4,
 "nbformat_minor": 2
}
